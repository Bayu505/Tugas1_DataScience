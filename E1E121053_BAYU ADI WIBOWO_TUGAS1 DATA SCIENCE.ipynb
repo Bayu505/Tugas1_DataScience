{
 "cells": [
  {
   "cell_type": "markdown",
   "id": "3f4b663c",
   "metadata": {},
   "source": [
    "# Week 1 Review Exercises\n"
   ]
  },
  {
   "cell_type": "markdown",
   "id": "ada58c46",
   "metadata": {},
   "source": [
    "Q1. Data Types\n",
    "\n",
    "What is the data type of the variable `pop`?"
   ]
  },
  {
   "cell_type": "code",
   "execution_count": null,
   "id": "563c66fd",
   "metadata": {},
   "outputs": [],
   "source": [
    "pop = 5.8\n"
   ]
  },
  {
   "cell_type": "code",
   "execution_count": 1,
   "id": "caf77385",
   "metadata": {},
   "outputs": [
    {
     "name": "stdout",
     "output_type": "stream",
     "text": [
      "<class 'float'>\n"
     ]
    }
   ],
   "source": [
    "# use a suitable function to check your answer\n",
    "pop = 5.8\n",
    "print(type(pop))"
   ]
  },
  {
   "cell_type": "markdown",
   "id": "b19b8600",
   "metadata": {},
   "source": [
    "Q2. Which of the following is a valid variable name of of population below 15 years old?\n"
   ]
  },
  {
   "cell_type": "code",
   "execution_count": null,
   "id": "fa3e5e24",
   "metadata": {},
   "outputs": [],
   "source": [
    "# which line won't give an error? Comment out the ones that do!\n",
    "15_years_and_below = 12.33\n",
    "%_pop_15_below = 12.33\n",
    "_15&below_pop = 12.33\n",
    "# _15_below_pop = 12.33"
   ]
  },
  {
   "cell_type": "code",
   "execution_count": 2,
   "id": "a098cdc2",
   "metadata": {},
   "outputs": [
    {
     "name": "stdout",
     "output_type": "stream",
     "text": [
      "12.33\n"
     ]
    }
   ],
   "source": [
    "_15_below_pop = 12.33\n",
    "print(_15_below_pop)"
   ]
  },
  {
   "cell_type": "markdown",
   "id": "6227288b",
   "metadata": {},
   "source": [
    "Q3. What will be stored in `result`?"
   ]
  },
  {
   "cell_type": "code",
   "execution_count": null,
   "id": "5e4cfdfd",
   "metadata": {},
   "outputs": [],
   "source": [
    "result = 3 + 4 ** 2 - (5 // 2)\n"
   ]
  },
  {
   "cell_type": "code",
   "execution_count": 3,
   "id": "e78a3e29",
   "metadata": {},
   "outputs": [
    {
     "name": "stdout",
     "output_type": "stream",
     "text": [
      "17\n"
     ]
    }
   ],
   "source": [
    "result = 3 + 4 ** 2 - (5 // 2)\n",
    "print(result)"
   ]
  },
  {
   "cell_type": "markdown",
   "id": "4b2b1ba6",
   "metadata": {},
   "source": [
    "Q4. If Singapore has an estimated population of 5.85 million and the land area is 700 square kilometers, what is the population density (number of people per KM)? \n"
   ]
  },
  {
   "cell_type": "code",
   "execution_count": null,
   "id": "3b3dd8d9",
   "metadata": {},
   "outputs": [],
   "source": [
    "# Estimated total Population of Singapore, in millions\n",
    "total_pop_millions = 5.85\n",
    "\n",
    "# Total land area, in KM\n",
    "land_area = 700\n",
    "\n",
    "# How many people are there per KM?\n"
   ]
  },
  {
   "cell_type": "code",
   "execution_count": 4,
   "id": "85e88464",
   "metadata": {},
   "outputs": [
    {
     "name": "stdout",
     "output_type": "stream",
     "text": [
      "Population density: 8357.14 people per square kilometer\n"
     ]
    }
   ],
   "source": [
    "total_pop_millions = 5.85  # in millions\n",
    "land_area = 700  # in square kilometers\n",
    "\n",
    "population_density = total_pop_millions * 1e6 / land_area\n",
    "\n",
    "print(\"Population density: {:.2f} people per square kilometer\".format(population_density))\n"
   ]
  },
  {
   "cell_type": "markdown",
   "id": "8a8b4f48",
   "metadata": {},
   "source": [
    "Q5. Write a function called `pop_density()` that receives two arguments:\n",
    "1. the population, recorded in millions, `population_mil`\n",
    "2. the land area, in square kilometres, `land_area_sqkm`\n",
    "\n",
    "The function should calculate and return the population density. \n"
   ]
  },
  {
   "cell_type": "code",
   "execution_count": 5,
   "id": "cec3ad43",
   "metadata": {},
   "outputs": [
    {
     "name": "stdout",
     "output_type": "stream",
     "text": [
      "Population density: 8357.14 people per square kilometer\n"
     ]
    }
   ],
   "source": [
    "def pop_density(population_mil, land_area_sqkm):\n",
    "    # Convert population from millions to individuals\n",
    "    population = population_mil * 1e6\n",
    "    \n",
    "    # Calculate population density (people per square kilometer)\n",
    "    density = population / land_area_sqkm\n",
    "    \n",
    "    return density\n",
    "\n",
    "# Example usage:\n",
    "population_mil = 5.85  # in millions\n",
    "land_area_sqkm = 700  # in square kilometers\n",
    "\n",
    "density = pop_density(population_mil, land_area_sqkm)\n",
    "print(\"Population density: {:.2f} people per square kilometer\".format(density))\n"
   ]
  },
  {
   "cell_type": "markdown",
   "id": "9c7711c8",
   "metadata": {},
   "source": [
    "Q6. Call the function you have written to calculate and display the population density of Hong Kong: 7.50 million people in a land area of 1050 km squared \n"
   ]
  },
  {
   "cell_type": "code",
   "execution_count": 1,
   "id": "a2b27625",
   "metadata": {},
   "outputs": [
    {
     "name": "stdout",
     "output_type": "stream",
     "text": [
      "Population density of Hong Kong: 7142.86 people per square kilometer\n"
     ]
    }
   ],
   "source": [
    "def pop_density(population_mil, land_area_sqkm):\n",
    "    # Convert population from millions to individuals\n",
    "    population = population_mil * 1e6\n",
    "    \n",
    "    # Calculate population density (people per square kilometer)\n",
    "    density = population / land_area_sqkm\n",
    "    \n",
    "    return density\n",
    "\n",
    "# Population of Hong Kong (in millions) and land area (in square kilometers)\n",
    "population_hongkong_mil = 7.50\n",
    "land_area_hongkong_sqkm = 1050\n",
    "\n",
    "# Calculate the population density for Hong Kong\n",
    "density_hongkong = pop_density(population_hongkong_mil, land_area_hongkong_sqkm)\n",
    "\n",
    "# Display the population density for Hong Kong\n",
    "print(\"Population density of Hong Kong: {:.2f} people per square kilometer\".format(density_hongkong))"
   ]
  },
  {
   "cell_type": "markdown",
   "id": "43cbdd91",
   "metadata": {},
   "source": [
    "Q7. Using the `pop_density()` function, calculate the population density of Singapore and then use comparison operators to compare the population densities of Singapore and Hong Kong.\n",
    "\n",
    "Singapore's population: 5.85 million\n",
    "Singapore's land area: 700 sq km\n",
    "\n",
    "(Data From [Worldometers](http://worldometers.info))\n"
   ]
  },
  {
   "cell_type": "code",
   "execution_count": null,
   "id": "626d47c8",
   "metadata": {},
   "outputs": [],
   "source": [
    "# use the function\n",
    "\n",
    "\n",
    "# compare hk vs sg population density \n",
    "\n"
   ]
  },
  {
   "cell_type": "code",
   "execution_count": 6,
   "id": "33cd5299",
   "metadata": {},
   "outputs": [
    {
     "name": "stdout",
     "output_type": "stream",
     "text": [
      "Singapore has a higher population density than Hong Kong.\n",
      "Population density of Singapore: 8357.14 people per square kilometer\n",
      "Population density of Hong Kong: 7142.86 people per square kilometer\n"
     ]
    }
   ],
   "source": [
    "# Function to calculate population density\n",
    "def pop_density(population_mil, land_area_sqkm):\n",
    "    population = population_mil * 1e6\n",
    "    density = population / land_area_sqkm\n",
    "    return density\n",
    "\n",
    "# Population and land area for Singapore (in millions and square kilometers)\n",
    "population_singapore_mil = 5.85\n",
    "land_area_singapore_sqkm = 700\n",
    "\n",
    "# Calculate the population density for Singapore\n",
    "density_singapore = pop_density(population_singapore_mil, land_area_singapore_sqkm)\n",
    "\n",
    "# Population and land area for Hong Kong (in millions and square kilometers)\n",
    "population_hongkong_mil = 7.50\n",
    "land_area_hongkong_sqkm = 1050\n",
    "\n",
    "# Calculate the population density for Hong Kong\n",
    "density_hongkong = pop_density(population_hongkong_mil, land_area_hongkong_sqkm)\n",
    "\n",
    "# Compare population densities\n",
    "if density_singapore > density_hongkong:\n",
    "    print(\"Singapore has a higher population density than Hong Kong.\")\n",
    "elif density_singapore < density_hongkong:\n",
    "    print(\"Hong Kong has a higher population density than Singapore.\")\n",
    "else:\n",
    "    print(\"Singapore and Hong Kong have the same population density.\")\n",
    "\n",
    "# Display the population densities\n",
    "print(\"Population density of Singapore: {:.2f} people per square kilometer\".format(density_singapore))\n",
    "print(\"Population density of Hong Kong: {:.2f} people per square kilometer\".format(density_hongkong))\n"
   ]
  },
  {
   "cell_type": "markdown",
   "id": "cc1768c5",
   "metadata": {},
   "source": [
    "Q8. Let's add another area to compare: Macao's population is 0.65 million in a land area of 30 sq km. Find out whether Singapore's population density is higher than BOTH Hong Kong and Macao."
   ]
  },
  {
   "cell_type": "code",
   "execution_count": null,
   "id": "55aeec5c",
   "metadata": {},
   "outputs": [],
   "source": [
    "# Calculate Macao's density (use the function!)\n",
    "\n",
    "# Singapore's population density is higher than both Hong Kong AND Macao\n"
   ]
  },
  {
   "cell_type": "code",
   "execution_count": 7,
   "id": "ceea5ac9",
   "metadata": {},
   "outputs": [
    {
     "name": "stdout",
     "output_type": "stream",
     "text": [
      "Singapore has a higher population density than Hong Kong, but not Macao.\n",
      "Population density of Singapore: 8357.14 people per square kilometer\n",
      "Population density of Hong Kong: 7142.86 people per square kilometer\n",
      "Population density of Macao: 21666.67 people per square kilometer\n"
     ]
    }
   ],
   "source": [
    "# Population and land area for Macao (in millions and square kilometers)\n",
    "population_macao_mil = 0.65\n",
    "land_area_macao_sqkm = 30\n",
    "\n",
    "# Calculate the population density for Macao\n",
    "density_macao = pop_density(population_macao_mil, land_area_macao_sqkm)\n",
    "\n",
    "# Compare Singapore's population density with Hong Kong and Macao\n",
    "if density_singapore > density_hongkong and density_singapore > density_macao:\n",
    "    print(\"Singapore has a higher population density than both Hong Kong and Macao.\")\n",
    "elif density_singapore > density_hongkong:\n",
    "    print(\"Singapore has a higher population density than Hong Kong, but not Macao.\")\n",
    "elif density_singapore > density_macao:\n",
    "    print(\"Singapore has a higher population density than Macao, but not Hong Kong.\")\n",
    "else:\n",
    "    print(\"Singapore's population density is not higher than both Hong Kong and Macao.\")\n",
    "\n",
    "# Display the population densities for all three regions\n",
    "print(\"Population density of Singapore: {:.2f} people per square kilometer\".format(density_singapore))\n",
    "print(\"Population density of Hong Kong: {:.2f} people per square kilometer\".format(density_hongkong))\n",
    "print(\"Population density of Macao: {:.2f} people per square kilometer\".format(density_macao))\n"
   ]
  },
  {
   "cell_type": "markdown",
   "id": "66b284ff",
   "metadata": {},
   "source": [
    "Q9. Write a function called compare_density() that receives two arguments representing the population densities of two areas. The function will compare the two values and print one of the following strings:\n",
    "- “Area 1 has higher density”\n",
    "- “Area 2 has higher density”\n",
    "- “Both areas have the same density”"
   ]
  },
  {
   "cell_type": "code",
   "execution_count": 8,
   "id": "63351d63",
   "metadata": {},
   "outputs": [
    {
     "name": "stdout",
     "output_type": "stream",
     "text": [
      "Both areas have the same density\n"
     ]
    }
   ],
   "source": [
    "def compare_density(density1, density2):\n",
    "    if density1 > density2:\n",
    "        print(\"Area 1 has higher density\")\n",
    "    elif density1 < density2:\n",
    "        print(\"Area 2 has higher density\")\n",
    "    else:\n",
    "        print(\"Both areas have the same density\")\n",
    "\n",
    "# Example usage\n",
    "density_area1 = 8000  # Replace with the actual population density for Area 1\n",
    "density_area2 = 8000  # Replace with the actual population density for Area 2\n",
    "\n",
    "# Compare the population densities\n",
    "compare_density(density_area1, density_area2)\n"
   ]
  },
  {
   "cell_type": "markdown",
   "id": "0e7c4ab1",
   "metadata": {},
   "source": [
    "Then we can test the function by passing the values of `sg_density` and `hk_density` as arguments."
   ]
  },
  {
   "cell_type": "code",
   "execution_count": null,
   "id": "6f1a4362",
   "metadata": {},
   "outputs": [],
   "source": [
    "compare_density(sg_density, hk_density)"
   ]
  },
  {
   "cell_type": "code",
   "execution_count": 9,
   "id": "78d1e96e",
   "metadata": {},
   "outputs": [
    {
     "name": "stdout",
     "output_type": "stream",
     "text": [
      "Singapore has higher density\n"
     ]
    }
   ],
   "source": [
    "def compare_density(density1, density2):\n",
    "    if density1 > density2:\n",
    "        print(\"Singapore has higher density\")\n",
    "    elif density1 < density2:\n",
    "        print(\"Hong Kong has higher density\")\n",
    "    else:\n",
    "        print(\"Both areas have the same density\")\n",
    "\n",
    "# Population densities for Singapore and Hong Kong (replace with actual values)\n",
    "sg_density = 8142  # Example density for Singapore (people per square kilometer)\n",
    "hk_density = 7046  # Example density for Hong Kong (people per square kilometer)\n",
    "\n",
    "# Compare the population densities of Singapore and Hong Kong\n",
    "compare_density(sg_density, hk_density)\n"
   ]
  },
  {
   "cell_type": "markdown",
   "id": "49fae04b",
   "metadata": {},
   "source": [
    "Q10. What will be the result of the following loop?\n",
    "\n",
    "```\n",
    "for year in range(2022, 2031, 2):\n",
    "    print(year)\n",
    "```"
   ]
  },
  {
   "cell_type": "code",
   "execution_count": 10,
   "id": "48ab8047",
   "metadata": {},
   "outputs": [
    {
     "name": "stdout",
     "output_type": "stream",
     "text": [
      "2022\n",
      "2024\n",
      "2026\n",
      "2028\n",
      "2030\n"
     ]
    }
   ],
   "source": [
    "for year in range(2022, 2031, 2):\n",
    "    print(year)\n"
   ]
  },
  {
   "cell_type": "markdown",
   "id": "359280f1",
   "metadata": {},
   "source": [
    "Q.11 Write a function projected_population() that receives three arguments:\n",
    "- Current population, in millions\n",
    "- Growth rate\n",
    "- Current year\n"
   ]
  },
  {
   "cell_type": "markdown",
   "id": "43b00110",
   "metadata": {},
   "source": [
    "The function should:\n",
    "- set the projected population to the current population\n",
    "- set the projected year to the current year\n",
    "- calculate the difference between the projected population and current population\n",
    "\n",
    "while the difference is between -1 and 1:\n",
    "1. print the projected year and the projected population\n",
    "2. calculate the projected population = projected population + projected population * growth rate / 100\n",
    "3. update the projected year \n",
    "4. recalculate the difference between the projected propulation and current population"
   ]
  },
  {
   "cell_type": "code",
   "execution_count": 11,
   "id": "8e62f54e",
   "metadata": {},
   "outputs": [
    {
     "name": "stdout",
     "output_type": "stream",
     "text": [
      "Projected year: 2023, Projected population: 5.85 million\n",
      "Projected year: 2024, Projected population: 5.97 million\n",
      "Projected year: 2025, Projected population: 6.09 million\n",
      "Projected year: 2026, Projected population: 6.21 million\n",
      "Projected year: 2027, Projected population: 6.33 million\n",
      "Projected year: 2028, Projected population: 6.46 million\n",
      "Projected year: 2029, Projected population: 6.59 million\n",
      "Projected year: 2030, Projected population: 6.72 million\n"
     ]
    }
   ],
   "source": [
    "def projected_population(current_population_mil, growth_rate, current_year):\n",
    "    # Initialize projected population and year\n",
    "    projected_population_mil = current_population_mil\n",
    "    projected_year = current_year\n",
    "\n",
    "    # Calculate the difference between projected and current population\n",
    "    population_difference = projected_population_mil - current_population_mil\n",
    "\n",
    "    # Loop as long as the difference is between -1 and 1\n",
    "    while -1 < population_difference < 1:\n",
    "        # Print the projected year and population\n",
    "        print(f\"Projected year: {projected_year}, Projected population: {projected_population_mil:.2f} million\")\n",
    "\n",
    "        # Update projected population and year\n",
    "        projected_population_mil += projected_population_mil * growth_rate / 100\n",
    "        projected_year += 1\n",
    "\n",
    "        # Recalculate the difference\n",
    "        population_difference = projected_population_mil - current_population_mil\n",
    "\n",
    "# Example usage\n",
    "current_population_mil = 5.85  # in millions\n",
    "growth_rate = 2.0  # growth rate in percentage\n",
    "current_year = 2023  # current year\n",
    "\n",
    "# Calculate the projected population\n",
    "projected_population(current_population_mil, growth_rate, current_year)\n"
   ]
  },
  {
   "cell_type": "code",
   "execution_count": null,
   "id": "35c3f670",
   "metadata": {},
   "outputs": [],
   "source": [
    "# testing with Thailand\n",
    "print(\"Thailand's population growth\")\n",
    "projected_population(current_pop = 69.8, growth_rate = 0.3, current_year = 2020)"
   ]
  },
  {
   "cell_type": "code",
   "execution_count": 12,
   "id": "b5e0dd48",
   "metadata": {},
   "outputs": [
    {
     "name": "stdout",
     "output_type": "stream",
     "text": [
      "Thailand's population growth\n",
      "Projected year: 2020, Projected population: 69.80 million\n",
      "Projected year: 2021, Projected population: 70.01 million\n",
      "Projected year: 2022, Projected population: 70.22 million\n",
      "Projected year: 2023, Projected population: 70.43 million\n",
      "Projected year: 2024, Projected population: 70.64 million\n"
     ]
    }
   ],
   "source": [
    "def projected_population(current_pop, growth_rate, current_year):\n",
    "    # Initialize projected population and year\n",
    "    projected_population = current_pop\n",
    "    projected_year = current_year\n",
    "\n",
    "    # Calculate the difference between projected and current population\n",
    "    population_difference = projected_population - current_pop\n",
    "\n",
    "    # Loop as long as the difference is between -1 and 1\n",
    "    while -1 < population_difference < 1:\n",
    "        # Print the projected year and population\n",
    "        print(f\"Projected year: {projected_year}, Projected population: {projected_population:.2f} million\")\n",
    "\n",
    "        # Update projected population and year\n",
    "        projected_population += projected_population * growth_rate / 100\n",
    "        projected_year += 1\n",
    "\n",
    "        # Recalculate the difference\n",
    "        population_difference = projected_population - current_pop\n",
    "\n",
    "# Example usage for Thailand\n",
    "print(\"Thailand's population growth\")\n",
    "projected_population(current_pop=69.8, growth_rate=0.3, current_year=2020)\n"
   ]
  },
  {
   "cell_type": "markdown",
   "id": "09df059d",
   "metadata": {},
   "source": [
    "Q.12 Write a function called `string_info()` which takes in a string argument and returns four values:\n",
    "- the first 3 characters\n",
    "- last 3 characters\n",
    "- the number of characters in the string\n",
    "- the string with each word capitalized"
   ]
  },
  {
   "cell_type": "code",
   "execution_count": null,
   "id": "254d3e0c",
   "metadata": {},
   "outputs": [],
   "source": [
    "def string_info(word): \n",
    "    # complete the function"
   ]
  },
  {
   "cell_type": "code",
   "execution_count": null,
   "id": "5858639b",
   "metadata": {},
   "outputs": [],
   "source": [
    "#calling the function\n",
    "start, end, num, title = string_info(\"data science\")\n"
   ]
  },
  {
   "cell_type": "code",
   "execution_count": null,
   "id": "f286a42c",
   "metadata": {},
   "outputs": [],
   "source": [
    "# print what's returned\n",
    "print(string_info(\"data science\"))"
   ]
  },
  {
   "cell_type": "code",
   "execution_count": 13,
   "id": "fbc7124f",
   "metadata": {},
   "outputs": [
    {
     "name": "stdout",
     "output_type": "stream",
     "text": [
      "First 3 characters: dat\n",
      "Last 3 characters: nce\n",
      "Number of characters: 12\n",
      "Capitalized string: Data Science\n"
     ]
    }
   ],
   "source": [
    "def string_info(word):\n",
    "    # Get the first 3 characters\n",
    "    first_three_chars = word[:3]\n",
    "\n",
    "    # Get the last 3 characters\n",
    "    last_three_chars = word[-3:]\n",
    "\n",
    "    # Get the number of characters in the string\n",
    "    num_chars = len(word)\n",
    "\n",
    "    # Capitalize each word in the string\n",
    "    capitalized_word = word.title()\n",
    "\n",
    "    return first_three_chars, last_three_chars, num_chars, capitalized_word\n",
    "\n",
    "# Calling the function\n",
    "start, end, num, title = string_info(\"data science\")\n",
    "\n",
    "# Print what's returned\n",
    "print(\"First 3 characters:\", start)\n",
    "print(\"Last 3 characters:\", end)\n",
    "print(\"Number of characters:\", num)\n",
    "print(\"Capitalized string:\", title)\n"
   ]
  },
  {
   "cell_type": "markdown",
   "id": "f33e1677",
   "metadata": {},
   "source": [
    "# Congratulations! \n",
    "\n",
    "You have reached the end of this notebook! Hope you have been able to practice and review the fundamental concepts in Python coding and we will do more next week!"
   ]
  }
 ],
 "metadata": {
  "kernelspec": {
   "display_name": "Python 3 (ipykernel)",
   "language": "python",
   "name": "python3"
  },
  "language_info": {
   "codemirror_mode": {
    "name": "ipython",
    "version": 3
   },
   "file_extension": ".py",
   "mimetype": "text/x-python",
   "name": "python",
   "nbconvert_exporter": "python",
   "pygments_lexer": "ipython3",
   "version": "3.10.9"
  }
 },
 "nbformat": 4,
 "nbformat_minor": 5
}
